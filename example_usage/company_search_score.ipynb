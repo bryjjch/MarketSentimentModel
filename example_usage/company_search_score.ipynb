{
  "cells": [
    {
      "cell_type": "code",
      "execution_count": null,
      "metadata": {
        "id": "RpH9AVYg0zjs"
      },
      "outputs": [],
      "source": [
        "# Import statements\n",
        "import serpapi\n",
        "import requests\n",
        "from transformers import BertTokenizer, BertForSequenceClassification\n",
        "import torch\n",
        "import serp_api_key"
      ]
    },
    {
      "cell_type": "code",
      "execution_count": null,
      "metadata": {
        "colab": {
          "base_uri": "https://localhost:8080/"
        },
        "id": "3a8gvO7N964Z",
        "outputId": "33406518-399c-4eac-f68b-1fe845947c3c"
      },
      "outputs": [],
      "source": [
        "# Set device to whatever device is available\n",
        "if torch.cuda.is_available():\n",
        "    device = torch.device('cuda')\n",
        "    print('Using GPU')\n",
        "else:\n",
        "    device = torch.device('cpu')\n",
        "    print('Using CPU')"
      ]
    },
    {
      "cell_type": "code",
      "execution_count": 24,
      "metadata": {
        "id": "cZE-z1s40zjt"
      },
      "outputs": [],
      "source": [
        "# Step 1: Search Google News\n",
        "def search_google_news(query, num_results=10):\n",
        "    print(f\"Searching Google News for: {query}\")\n",
        "    output = []\n",
        "    params = {\n",
        "        \"engine\": \"google_news\",\n",
        "        \"q\": query,\n",
        "        \"api_key\": serp_api_key.API_KEY_SERVICE\n",
        "    }\n",
        "    print(\"Calling SerpAPI\")\n",
        "    result = serpapi.search(params)\n",
        "    print(\"Going through articles\")\n",
        "    for article in result[\"news_results\"]:\n",
        "      output.append(article[\"title\"])\n",
        "    return result"
      ]
    },
    {
      "cell_type": "code",
      "execution_count": 25,
      "metadata": {
        "id": "lqRR_OOU0zjt"
      },
      "outputs": [],
      "source": [
        "# Step 2: Preprocess and Predict Sentiment\n",
        "def preprocess_articles(articles):\n",
        "    print(\"Preprocessing articles...\")\n",
        "    encodings = tokenizer(articles, truncation=True, padding=True, max_length=128, return_tensors='pt')\n",
        "    return encodings\n",
        "\n",
        "def predict_sentiment(encodings):\n",
        "    print(\"Predicting sentiment...\")\n",
        "    with torch.no_grad():\n",
        "        outputs = model(**encodings)\n",
        "        predictions = torch.argmax(outputs.logits, dim=1)\n",
        "    return predictions\n",
        "\n",
        "def decode_sentiment(predictions):\n",
        "    print(\"Decoding sentiment predictions...\")\n",
        "    sentiment_map = {0: 'negative', 1: 'neutral', 2: 'positive'}\n",
        "    return [sentiment_map[pred.item()] for pred in predictions]"
      ]
    },
    {
      "cell_type": "code",
      "execution_count": null,
      "metadata": {
        "colab": {
          "base_uri": "https://localhost:8080/"
        },
        "id": "jogtOQ000zjt",
        "outputId": "0fe8dc95-8ba1-4152-eef6-8ee27f8f7d07"
      },
      "outputs": [],
      "source": [
        "stock_symbol = 'NVDA'  # Example stock symbol\n",
        "news_titles = search_google_news(f'{stock_symbol} stock')\n",
        "\n",
        "print(news_titles)\n",
        "# Load tokenizer and model\n",
        "tokenizer = BertTokenizer.from_pretrained('bert-base-uncased')\n",
        "model = BertForSequenceClassification.from_pretrained('bert-base-uncased', num_labels=3)\n",
        "state_dict = torch.load('model.pth', map_location=torch.device(device))\n",
        "model.load_state_dict(state_dict)\n",
        "model.eval()\n",
        "\n",
        "# Preprocess articles\n",
        "news_encodings = preprocess_articles([article for article in news_titles if article])\n",
        "\n",
        "# Predict sentiment\n",
        "scores = []\n",
        "for article in news_encodings:\n",
        "    predict_sentiment(article)\n",
        "    scores.append(predict_sentiment(article))\n",
        "\n",
        "# Decode and calculate average sentiment score\n",
        "average_sentiment = sum(scores) / len(scores) if scores else 0  # Handle case with no valid scores\n",
        "print(f'Overall Sentiment Score: {average_sentiment}')"
      ]
    }
  ],
  "metadata": {
    "colab": {
      "provenance": []
    },
    "kernelspec": {
      "display_name": "Python 3",
      "name": "python3"
    },
    "language_info": {
      "codemirror_mode": {
        "name": "ipython",
        "version": 3
      },
      "file_extension": ".py",
      "mimetype": "text/x-python",
      "name": "python",
      "nbconvert_exporter": "python",
      "pygments_lexer": "ipython3",
      "version": "3.10.11"
    }
  },
  "nbformat": 4,
  "nbformat_minor": 0
}
